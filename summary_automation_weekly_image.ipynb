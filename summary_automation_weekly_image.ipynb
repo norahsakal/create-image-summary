{
 "cells": [
  {
   "cell_type": "markdown",
   "id": "86e9856d",
   "metadata": {},
   "source": [
    "# Create weekly summary"
   ]
  },
  {
   "cell_type": "code",
   "execution_count": 10,
   "id": "3c2c9e6d",
   "metadata": {},
   "outputs": [
    {
     "data": {
      "text/plain": [
       "<matplotlib.image.AxesImage at 0x107735640>"
      ]
     },
     "execution_count": 10,
     "metadata": {},
     "output_type": "execute_result"
    },
    {
     "data": {
      "image/png": "[encoded data removed]",
      "text/plain": [
       "<Figure size 432x288 with 1 Axes>"
      ]
     },
     "metadata": {
      "needs_background": "light"
     },
     "output_type": "display_data"
    }
   ],
   "source": [
    "import io\n",
    "from matplotlib.pyplot import imshow\n",
    "from PIL import Image, ImageDraw, ImageFont\n",
    "from pilmoji import Pilmoji\n",
    "\n",
    "\n",
    "# Define days\n",
    "days = ['Mon', 'Tue', 'Wed', 'Thu', 'Fri', 'Sat', 'Sun'] # Change into ['M','T',,,'S'] how you like it\n",
    "\n",
    "# Map available habits\n",
    "habit_mapping = {\n",
    "    \"habit1\": \"✍️\",\n",
    "    \"habit2\": \"💪\",\n",
    "    \"habit3\": \"🎨\"\n",
    "}\n",
    "\n",
    "\n",
    "# User habits, change to real user data\n",
    "user_habits = {\n",
    "    \"habit1\": [0,1,1,0,1,0,0], \n",
    "    \"habit2\":[0,1,0,1,1,0,0,1], \n",
    "    \"habit3\": [1,1,1,0,0,0,1]\n",
    "}\n",
    "\n",
    "# Define fonts for text and emojis\n",
    "font = ImageFont.truetype(\"HelveticaNeue-Regular.otf\", 12) # Choose your own font\n",
    "emoji_font = ImageFont.truetype(\"HelveticaNeue-Regular.otf\", 15) # Choose the size of the emoji\n",
    "\n",
    "# Create 400x200 image base\n",
    "im = Image.new('RGBA', (400, 220), color=\"white\")\n",
    "draw = ImageDraw.Draw(im)\n",
    "\n",
    "day_x = 48 # Start point x-axis for weekday name\n",
    "user_rating_x = 52 # Start point x-axis for habit emoji\n",
    "\n",
    "# Draw horizontal line\n",
    "draw.line([(40, 180), (400 - 28, 180)], fill=(0, 0, 0), width=0)\n",
    "\n",
    "# Loop over day list [mon, tues, ..., 'sun']\n",
    "for i, day in enumerate(days):\n",
    "    \n",
    "    # Print the weekday name\n",
    "    draw.text((day_x, 185), day, fill=\"black\", font=font)\n",
    "    \n",
    "    habit_y = 150 # Starting point for habit on y-axis\n",
    "    \n",
    "    # Loop over each habit for each day\n",
    "    for habit in user_habits:\n",
    "        \n",
    "        # Map the habit with available habits \n",
    "        habit_rating = user_habits[habit][i]\n",
    "        \n",
    "        # Only print the performed habits != 0\n",
    "        if habit_rating != 0:\n",
    "            \n",
    "            # Package to print emojis in PIL\n",
    "            with Pilmoji(im) as pilmoji:\n",
    "                \n",
    "                # Print the emoji with slight offset in x-axis (+2)\n",
    "                pilmoji.text((day_x+2, habit_y), habit_mapping[habit], (0, 0, 0), emoji_font)\n",
    "                \n",
    "            # Move the y-axis position -30 pixels up\n",
    "            habit_y -= 30\n",
    "    # Move the x-axis position for weekday names 50 pixels to the right\n",
    "    day_x += 50\n",
    "    \n",
    "# Save image locally\n",
    "\n",
    "\n",
    "# Alternative ways to save image\n",
    "\n",
    "# 1. Simple, save image locally\n",
    "im.save('weekly_summary.png')\n",
    "\n",
    "# 2. Save the image to an in-memory file\n",
    "in_mem_file = io.BytesIO()\n",
    "im.save(in_mem_file, format='PNG')\n",
    "byte_img_string = in_mem_file.seek(0) # Save this byte string to your bucket etc\n",
    "\n",
    "# Show image\n",
    "imshow(im)"
   ]
  },
  {
   "cell_type": "code",
   "execution_count": null,
   "id": "2a7e1e2a",
   "metadata": {},
   "outputs": [],
   "source": []
  }
 ],
 "metadata": {
  "kernelspec": {
   "display_name": "Python 3",
   "language": "python",
   "name": "python3"
  },
  "language_info": {
   "codemirror_mode": {
    "name": "ipython",
    "version": 3
   },
   "file_extension": ".py",
   "mimetype": "text/x-python",
   "name": "python",
   "nbconvert_exporter": "python",
   "pygments_lexer": "ipython3",
   "version": "3.8.5"
  }
 },
 "nbformat": 4,
 "nbformat_minor": 5
}
